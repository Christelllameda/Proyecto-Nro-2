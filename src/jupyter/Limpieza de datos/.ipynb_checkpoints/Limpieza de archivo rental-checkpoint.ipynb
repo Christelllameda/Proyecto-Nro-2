{
 "cells": [
  {
   "cell_type": "code",
   "execution_count": 3,
   "id": "7045aa77",
   "metadata": {},
   "outputs": [],
   "source": [
    "import pandas as pd\n",
    "import numpy as np\n",
    "\n",
    "import warnings\n",
    "warnings.filterwarnings('ignore')"
   ]
  },
  {
   "cell_type": "markdown",
   "id": "14677a2a",
   "metadata": {},
   "source": [
    "## Importamos nuestro csv 'rental' para chequeo de valores nulos y duplicados"
   ]
  },
  {
   "cell_type": "code",
   "execution_count": 76,
   "id": "73f1a8d6",
   "metadata": {},
   "outputs": [],
   "source": [
    "data_ori = pd.read_csv('/Users/christelllameda/ironhack/Proyecto-Nro-2/data/csv_originales/rental.csv', encoding='latin1')\n",
    "\n",
    "data = data_ori.copy()"
   ]
  },
  {
   "cell_type": "code",
   "execution_count": 77,
   "id": "8abdd9cf",
   "metadata": {},
   "outputs": [
    {
     "data": {
      "text/html": [
       "<div>\n",
       "<style scoped>\n",
       "    .dataframe tbody tr th:only-of-type {\n",
       "        vertical-align: middle;\n",
       "    }\n",
       "\n",
       "    .dataframe tbody tr th {\n",
       "        vertical-align: top;\n",
       "    }\n",
       "\n",
       "    .dataframe thead th {\n",
       "        text-align: right;\n",
       "    }\n",
       "</style>\n",
       "<table border=\"1\" class=\"dataframe\">\n",
       "  <thead>\n",
       "    <tr style=\"text-align: right;\">\n",
       "      <th></th>\n",
       "      <th>rental_id</th>\n",
       "      <th>rental_date</th>\n",
       "      <th>inventory_id</th>\n",
       "      <th>customer_id</th>\n",
       "      <th>return_date</th>\n",
       "      <th>staff_id</th>\n",
       "      <th>last_update</th>\n",
       "    </tr>\n",
       "  </thead>\n",
       "  <tbody>\n",
       "    <tr>\n",
       "      <th>0</th>\n",
       "      <td>1</td>\n",
       "      <td>2005-05-24 22:53:30</td>\n",
       "      <td>367</td>\n",
       "      <td>130</td>\n",
       "      <td>2005-05-26 22:04:30</td>\n",
       "      <td>1</td>\n",
       "      <td>2006-02-15 21:30:53</td>\n",
       "    </tr>\n",
       "    <tr>\n",
       "      <th>1</th>\n",
       "      <td>2</td>\n",
       "      <td>2005-05-24 22:54:33</td>\n",
       "      <td>1525</td>\n",
       "      <td>459</td>\n",
       "      <td>2005-05-28 19:40:33</td>\n",
       "      <td>1</td>\n",
       "      <td>2006-02-15 21:30:53</td>\n",
       "    </tr>\n",
       "    <tr>\n",
       "      <th>2</th>\n",
       "      <td>3</td>\n",
       "      <td>2005-05-24 23:03:39</td>\n",
       "      <td>1711</td>\n",
       "      <td>408</td>\n",
       "      <td>2005-06-01 22:12:39</td>\n",
       "      <td>1</td>\n",
       "      <td>2006-02-15 21:30:53</td>\n",
       "    </tr>\n",
       "    <tr>\n",
       "      <th>3</th>\n",
       "      <td>4</td>\n",
       "      <td>2005-05-24 23:04:41</td>\n",
       "      <td>2452</td>\n",
       "      <td>333</td>\n",
       "      <td>2005-06-03 01:43:41</td>\n",
       "      <td>2</td>\n",
       "      <td>2006-02-15 21:30:53</td>\n",
       "    </tr>\n",
       "    <tr>\n",
       "      <th>4</th>\n",
       "      <td>5</td>\n",
       "      <td>2005-05-24 23:05:21</td>\n",
       "      <td>2079</td>\n",
       "      <td>222</td>\n",
       "      <td>2005-06-02 04:33:21</td>\n",
       "      <td>1</td>\n",
       "      <td>2006-02-15 21:30:53</td>\n",
       "    </tr>\n",
       "  </tbody>\n",
       "</table>\n",
       "</div>"
      ],
      "text/plain": [
       "   rental_id          rental_date  inventory_id  customer_id  \\\n",
       "0          1  2005-05-24 22:53:30           367          130   \n",
       "1          2  2005-05-24 22:54:33          1525          459   \n",
       "2          3  2005-05-24 23:03:39          1711          408   \n",
       "3          4  2005-05-24 23:04:41          2452          333   \n",
       "4          5  2005-05-24 23:05:21          2079          222   \n",
       "\n",
       "           return_date  staff_id          last_update  \n",
       "0  2005-05-26 22:04:30         1  2006-02-15 21:30:53  \n",
       "1  2005-05-28 19:40:33         1  2006-02-15 21:30:53  \n",
       "2  2005-06-01 22:12:39         1  2006-02-15 21:30:53  \n",
       "3  2005-06-03 01:43:41         2  2006-02-15 21:30:53  \n",
       "4  2005-06-02 04:33:21         1  2006-02-15 21:30:53  "
      ]
     },
     "execution_count": 77,
     "metadata": {},
     "output_type": "execute_result"
    }
   ],
   "source": [
    "data.head()"
   ]
  },
  {
   "cell_type": "code",
   "execution_count": 78,
   "id": "8dc3fd84",
   "metadata": {},
   "outputs": [
    {
     "data": {
      "text/plain": [
       "Series([], dtype: int64)"
      ]
     },
     "execution_count": 78,
     "metadata": {},
     "output_type": "execute_result"
    }
   ],
   "source": [
    "nan_cols = data.isna().sum()\n",
    "\n",
    "nan_cols[nan_cols>0]"
   ]
  },
  {
   "cell_type": "markdown",
   "id": "99cabda8",
   "metadata": {},
   "source": [
    "## La columna last_update posee los mismos valores para todas las filas, por lo que no es relevante y la eliminamos"
   ]
  },
  {
   "cell_type": "code",
   "execution_count": 79,
   "id": "0dda4561",
   "metadata": {},
   "outputs": [],
   "source": [
    "data = data.drop(columns=['last_update'])"
   ]
  },
  {
   "cell_type": "markdown",
   "id": "5cf76e00",
   "metadata": {},
   "source": [
    "## Chequeamos que no hay duplicados"
   ]
  },
  {
   "cell_type": "code",
   "execution_count": 80,
   "id": "bf93b510",
   "metadata": {},
   "outputs": [
    {
     "data": {
      "text/plain": [
       "False"
      ]
     },
     "execution_count": 80,
     "metadata": {},
     "output_type": "execute_result"
    }
   ],
   "source": [
    "data.duplicated().any()"
   ]
  },
  {
   "cell_type": "markdown",
   "id": "6b861f26",
   "metadata": {},
   "source": [
    "## Convertimos los valores de las columnas 'rental_date' y 'return_date' en formato datetime para poder restarlos y saber la cantidad de días que alquiló un cliente una película.\n",
    "\n",
    "## Este valor lo guardaremos en una columna nueva llamada 'rental_duration' que luego nos servirá para saber el costo de ese alquiler"
   ]
  },
  {
   "cell_type": "code",
   "execution_count": 81,
   "id": "684dd710",
   "metadata": {},
   "outputs": [],
   "source": [
    "data['rental_date'] = pd.to_datetime(data['rental_date'])\n",
    "data['return_date'] = pd.to_datetime(data['return_date'])\n",
    "\n",
    "data['rental_duration'] = data['return_date'] - data['rental_date']\n",
    "data['rental_duration'] = data['rental_duration'].dt.days"
   ]
  },
  {
   "cell_type": "markdown",
   "id": "63ce0b89",
   "metadata": {},
   "source": [
    "## Agregamos una nueva columna 'day_of_week' para poder conocer el día de la semana que se realizó el alquiler de la película"
   ]
  },
  {
   "cell_type": "code",
   "execution_count": 82,
   "id": "bee733a2",
   "metadata": {},
   "outputs": [
    {
     "data": {
      "text/html": [
       "<div>\n",
       "<style scoped>\n",
       "    .dataframe tbody tr th:only-of-type {\n",
       "        vertical-align: middle;\n",
       "    }\n",
       "\n",
       "    .dataframe tbody tr th {\n",
       "        vertical-align: top;\n",
       "    }\n",
       "\n",
       "    .dataframe thead th {\n",
       "        text-align: right;\n",
       "    }\n",
       "</style>\n",
       "<table border=\"1\" class=\"dataframe\">\n",
       "  <thead>\n",
       "    <tr style=\"text-align: right;\">\n",
       "      <th></th>\n",
       "      <th>rental_id</th>\n",
       "      <th>rental_date</th>\n",
       "      <th>inventory_id</th>\n",
       "      <th>customer_id</th>\n",
       "      <th>return_date</th>\n",
       "      <th>staff_id</th>\n",
       "      <th>rental_duration</th>\n",
       "      <th>day_of_week</th>\n",
       "    </tr>\n",
       "  </thead>\n",
       "  <tbody>\n",
       "    <tr>\n",
       "      <th>0</th>\n",
       "      <td>1</td>\n",
       "      <td>2005-05-24 22:53:30</td>\n",
       "      <td>367</td>\n",
       "      <td>130</td>\n",
       "      <td>2005-05-26 22:04:30</td>\n",
       "      <td>1</td>\n",
       "      <td>1</td>\n",
       "      <td>Tuesday</td>\n",
       "    </tr>\n",
       "    <tr>\n",
       "      <th>1</th>\n",
       "      <td>2</td>\n",
       "      <td>2005-05-24 22:54:33</td>\n",
       "      <td>1525</td>\n",
       "      <td>459</td>\n",
       "      <td>2005-05-28 19:40:33</td>\n",
       "      <td>1</td>\n",
       "      <td>3</td>\n",
       "      <td>Tuesday</td>\n",
       "    </tr>\n",
       "    <tr>\n",
       "      <th>2</th>\n",
       "      <td>3</td>\n",
       "      <td>2005-05-24 23:03:39</td>\n",
       "      <td>1711</td>\n",
       "      <td>408</td>\n",
       "      <td>2005-06-01 22:12:39</td>\n",
       "      <td>1</td>\n",
       "      <td>7</td>\n",
       "      <td>Tuesday</td>\n",
       "    </tr>\n",
       "    <tr>\n",
       "      <th>3</th>\n",
       "      <td>4</td>\n",
       "      <td>2005-05-24 23:04:41</td>\n",
       "      <td>2452</td>\n",
       "      <td>333</td>\n",
       "      <td>2005-06-03 01:43:41</td>\n",
       "      <td>2</td>\n",
       "      <td>9</td>\n",
       "      <td>Tuesday</td>\n",
       "    </tr>\n",
       "    <tr>\n",
       "      <th>4</th>\n",
       "      <td>5</td>\n",
       "      <td>2005-05-24 23:05:21</td>\n",
       "      <td>2079</td>\n",
       "      <td>222</td>\n",
       "      <td>2005-06-02 04:33:21</td>\n",
       "      <td>1</td>\n",
       "      <td>8</td>\n",
       "      <td>Tuesday</td>\n",
       "    </tr>\n",
       "  </tbody>\n",
       "</table>\n",
       "</div>"
      ],
      "text/plain": [
       "   rental_id         rental_date  inventory_id  customer_id  \\\n",
       "0          1 2005-05-24 22:53:30           367          130   \n",
       "1          2 2005-05-24 22:54:33          1525          459   \n",
       "2          3 2005-05-24 23:03:39          1711          408   \n",
       "3          4 2005-05-24 23:04:41          2452          333   \n",
       "4          5 2005-05-24 23:05:21          2079          222   \n",
       "\n",
       "          return_date  staff_id  rental_duration day_of_week  \n",
       "0 2005-05-26 22:04:30         1                1     Tuesday  \n",
       "1 2005-05-28 19:40:33         1                3     Tuesday  \n",
       "2 2005-06-01 22:12:39         1                7     Tuesday  \n",
       "3 2005-06-03 01:43:41         2                9     Tuesday  \n",
       "4 2005-06-02 04:33:21         1                8     Tuesday  "
      ]
     },
     "execution_count": 82,
     "metadata": {},
     "output_type": "execute_result"
    }
   ],
   "source": [
    "data['day_of_week'] = data['rental_date'].dt.strftime('%A')\n",
    "data.head()"
   ]
  },
  {
   "cell_type": "markdown",
   "id": "ebc83e42",
   "metadata": {},
   "source": [
    "## Reorganizamos el orden de nuestras columnas"
   ]
  },
  {
   "cell_type": "code",
   "execution_count": 85,
   "id": "26c09af8",
   "metadata": {},
   "outputs": [
    {
     "data": {
      "text/html": [
       "<div>\n",
       "<style scoped>\n",
       "    .dataframe tbody tr th:only-of-type {\n",
       "        vertical-align: middle;\n",
       "    }\n",
       "\n",
       "    .dataframe tbody tr th {\n",
       "        vertical-align: top;\n",
       "    }\n",
       "\n",
       "    .dataframe thead th {\n",
       "        text-align: right;\n",
       "    }\n",
       "</style>\n",
       "<table border=\"1\" class=\"dataframe\">\n",
       "  <thead>\n",
       "    <tr style=\"text-align: right;\">\n",
       "      <th></th>\n",
       "      <th>rental_id</th>\n",
       "      <th>inventory_id</th>\n",
       "      <th>rental_date</th>\n",
       "      <th>day_of_week</th>\n",
       "      <th>return_date</th>\n",
       "      <th>rental_duration</th>\n",
       "      <th>customer_id</th>\n",
       "      <th>staff_id</th>\n",
       "    </tr>\n",
       "  </thead>\n",
       "  <tbody>\n",
       "    <tr>\n",
       "      <th>0</th>\n",
       "      <td>1</td>\n",
       "      <td>367</td>\n",
       "      <td>2005-05-24 22:53:30</td>\n",
       "      <td>Tuesday</td>\n",
       "      <td>2005-05-26 22:04:30</td>\n",
       "      <td>1</td>\n",
       "      <td>130</td>\n",
       "      <td>1</td>\n",
       "    </tr>\n",
       "    <tr>\n",
       "      <th>1</th>\n",
       "      <td>2</td>\n",
       "      <td>1525</td>\n",
       "      <td>2005-05-24 22:54:33</td>\n",
       "      <td>Tuesday</td>\n",
       "      <td>2005-05-28 19:40:33</td>\n",
       "      <td>3</td>\n",
       "      <td>459</td>\n",
       "      <td>1</td>\n",
       "    </tr>\n",
       "    <tr>\n",
       "      <th>2</th>\n",
       "      <td>3</td>\n",
       "      <td>1711</td>\n",
       "      <td>2005-05-24 23:03:39</td>\n",
       "      <td>Tuesday</td>\n",
       "      <td>2005-06-01 22:12:39</td>\n",
       "      <td>7</td>\n",
       "      <td>408</td>\n",
       "      <td>1</td>\n",
       "    </tr>\n",
       "    <tr>\n",
       "      <th>3</th>\n",
       "      <td>4</td>\n",
       "      <td>2452</td>\n",
       "      <td>2005-05-24 23:04:41</td>\n",
       "      <td>Tuesday</td>\n",
       "      <td>2005-06-03 01:43:41</td>\n",
       "      <td>9</td>\n",
       "      <td>333</td>\n",
       "      <td>2</td>\n",
       "    </tr>\n",
       "    <tr>\n",
       "      <th>4</th>\n",
       "      <td>5</td>\n",
       "      <td>2079</td>\n",
       "      <td>2005-05-24 23:05:21</td>\n",
       "      <td>Tuesday</td>\n",
       "      <td>2005-06-02 04:33:21</td>\n",
       "      <td>8</td>\n",
       "      <td>222</td>\n",
       "      <td>1</td>\n",
       "    </tr>\n",
       "    <tr>\n",
       "      <th>5</th>\n",
       "      <td>6</td>\n",
       "      <td>2792</td>\n",
       "      <td>2005-05-24 23:08:07</td>\n",
       "      <td>Tuesday</td>\n",
       "      <td>2005-05-27 01:32:07</td>\n",
       "      <td>2</td>\n",
       "      <td>549</td>\n",
       "      <td>1</td>\n",
       "    </tr>\n",
       "    <tr>\n",
       "      <th>6</th>\n",
       "      <td>7</td>\n",
       "      <td>3995</td>\n",
       "      <td>2005-05-24 23:11:53</td>\n",
       "      <td>Tuesday</td>\n",
       "      <td>2005-05-29 20:34:53</td>\n",
       "      <td>4</td>\n",
       "      <td>269</td>\n",
       "      <td>2</td>\n",
       "    </tr>\n",
       "    <tr>\n",
       "      <th>7</th>\n",
       "      <td>8</td>\n",
       "      <td>2346</td>\n",
       "      <td>2005-05-24 23:31:46</td>\n",
       "      <td>Tuesday</td>\n",
       "      <td>2005-05-27 23:33:46</td>\n",
       "      <td>3</td>\n",
       "      <td>239</td>\n",
       "      <td>2</td>\n",
       "    </tr>\n",
       "    <tr>\n",
       "      <th>8</th>\n",
       "      <td>9</td>\n",
       "      <td>2580</td>\n",
       "      <td>2005-05-25 00:00:40</td>\n",
       "      <td>Wednesday</td>\n",
       "      <td>2005-05-28 00:22:40</td>\n",
       "      <td>3</td>\n",
       "      <td>126</td>\n",
       "      <td>1</td>\n",
       "    </tr>\n",
       "    <tr>\n",
       "      <th>9</th>\n",
       "      <td>10</td>\n",
       "      <td>1824</td>\n",
       "      <td>2005-05-25 00:02:21</td>\n",
       "      <td>Wednesday</td>\n",
       "      <td>2005-05-31 22:44:21</td>\n",
       "      <td>6</td>\n",
       "      <td>399</td>\n",
       "      <td>2</td>\n",
       "    </tr>\n",
       "  </tbody>\n",
       "</table>\n",
       "</div>"
      ],
      "text/plain": [
       "   rental_id  inventory_id         rental_date day_of_week  \\\n",
       "0          1           367 2005-05-24 22:53:30     Tuesday   \n",
       "1          2          1525 2005-05-24 22:54:33     Tuesday   \n",
       "2          3          1711 2005-05-24 23:03:39     Tuesday   \n",
       "3          4          2452 2005-05-24 23:04:41     Tuesday   \n",
       "4          5          2079 2005-05-24 23:05:21     Tuesday   \n",
       "5          6          2792 2005-05-24 23:08:07     Tuesday   \n",
       "6          7          3995 2005-05-24 23:11:53     Tuesday   \n",
       "7          8          2346 2005-05-24 23:31:46     Tuesday   \n",
       "8          9          2580 2005-05-25 00:00:40   Wednesday   \n",
       "9         10          1824 2005-05-25 00:02:21   Wednesday   \n",
       "\n",
       "          return_date  rental_duration  customer_id  staff_id  \n",
       "0 2005-05-26 22:04:30                1          130         1  \n",
       "1 2005-05-28 19:40:33                3          459         1  \n",
       "2 2005-06-01 22:12:39                7          408         1  \n",
       "3 2005-06-03 01:43:41                9          333         2  \n",
       "4 2005-06-02 04:33:21                8          222         1  \n",
       "5 2005-05-27 01:32:07                2          549         1  \n",
       "6 2005-05-29 20:34:53                4          269         2  \n",
       "7 2005-05-27 23:33:46                3          239         2  \n",
       "8 2005-05-28 00:22:40                3          126         1  \n",
       "9 2005-05-31 22:44:21                6          399         2  "
      ]
     },
     "execution_count": 85,
     "metadata": {},
     "output_type": "execute_result"
    }
   ],
   "source": [
    "nuevo_orden = ['rental_id', 'inventory_id', 'rental_date','day_of_week','return_date','rental_duration','customer_id', 'staff_id']\n",
    "data = data[nuevo_orden]\n",
    "data.head(10)"
   ]
  },
  {
   "cell_type": "markdown",
   "id": "11cef5af",
   "metadata": {},
   "source": [
    "## Exportamos nuestro archivo limpio"
   ]
  },
  {
   "cell_type": "code",
   "execution_count": 88,
   "id": "7840e595",
   "metadata": {},
   "outputs": [],
   "source": [
    "data.to_csv('rental_clean.csv', index=False)"
   ]
  },
  {
   "cell_type": "code",
   "execution_count": null,
   "id": "4288aa75",
   "metadata": {},
   "outputs": [],
   "source": []
  }
 ],
 "metadata": {
  "kernelspec": {
   "display_name": "Python 3 (ipykernel)",
   "language": "python",
   "name": "python3"
  },
  "language_info": {
   "codemirror_mode": {
    "name": "ipython",
    "version": 3
   },
   "file_extension": ".py",
   "mimetype": "text/x-python",
   "name": "python",
   "nbconvert_exporter": "python",
   "pygments_lexer": "ipython3",
   "version": "3.11.4"
  }
 },
 "nbformat": 4,
 "nbformat_minor": 5
}
